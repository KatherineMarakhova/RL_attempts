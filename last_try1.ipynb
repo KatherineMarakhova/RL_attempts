{
  "nbformat": 4,
  "nbformat_minor": 0,
  "metadata": {
    "colab": {
      "provenance": [],
      "authorship_tag": "ABX9TyOUFXyFdX2VoqZV7LcfW3Kr",
      "include_colab_link": true
    },
    "kernelspec": {
      "name": "python3",
      "display_name": "Python 3"
    },
    "language_info": {
      "name": "python"
    }
  },
  "cells": [
    {
      "cell_type": "markdown",
      "metadata": {
        "id": "view-in-github",
        "colab_type": "text"
      },
      "source": [
        "<a href=\"https://colab.research.google.com/github/KatherineMarakhova/RL_attempts/blob/main/last_try1.ipynb\" target=\"_parent\"><img src=\"https://colab.research.google.com/assets/colab-badge.svg\" alt=\"Open In Colab\"/></a>"
      ]
    },
    {
      "cell_type": "markdown",
      "source": [
        "Решение выполнено студентами Мараховой Е., Спицой А., Йосифивой А., Рудской И."
      ],
      "metadata": {
        "id": "vBwEnUYb9HYu"
      }
    },
    {
      "cell_type": "code",
      "execution_count": 73,
      "metadata": {
        "id": "Z2_TffEXAPBu"
      },
      "outputs": [],
      "source": [
        "import tensorflow as tf\n",
        "from tensorflow.python.framework import ops\n",
        "import tensorflow.compat.v1 as tf\n",
        "tf.disable_v2_behavior()\n",
        "import numpy as np\n",
        "\n",
        "#Список наших бандитов. Бандит №1 наиболее оптимален для выбора.\n",
        "prices = [1,3,4,2]\n",
        "bandits = [-0.9, -0.7, -0.8, -0.6]\n",
        "#bandits = [1, 3, 2, 4]\n",
        "#ограничение по запасам условно 35\n",
        "#ограничения по каждому потребителю 10 #target=10 в функции some\n",
        "ogr = [20, 10, 17, 12]\n",
        "num_bandits = len(bandits)\n",
        "def pullBandit(bandit):\n",
        "    #Сгенерировать случайное число\n",
        "    result = np.random.randn(1)\n",
        "    if result > bandit:\n",
        "        #Выигрыш\n",
        "        return 1\n",
        "    else:\n",
        "        #Проигрыш\n",
        "        return -1"
      ]
    },
    {
      "cell_type": "markdown",
      "source": [
        "###Агент"
      ],
      "metadata": {
        "id": "-YYBfN8gAYD1"
      }
    },
    {
      "cell_type": "code",
      "source": [
        "ops.reset_default_graph()\n",
        "\n",
        "#Эти 2 строчки создают feed-forward часть нейросети. Здесь и происходит выбор действия.\n",
        "weights = tf.Variable(tf.ones([num_bandits]))\n",
        "chosen_action = tf.argmax(weights,0)\n",
        "\n",
        "#Следующие 6 строчек устанавливают процедуру обучения. Нейросеть принимает на вход действие и его результат, чтобы оценить функцию потерь и обновить веса сети.\n",
        "reward_holder = tf.placeholder(shape=[1],dtype=tf.float32)\n",
        "action_holder = tf.placeholder(shape=[1],dtype=tf.int32)\n",
        "responsible_weight = tf.slice(weights,action_holder,[1])\n",
        "loss = -(tf.log(responsible_weight)*reward_holder)\n",
        "optimizer = tf.train.GradientDescentOptimizer(learning_rate=0.001)\n",
        "update = optimizer.minimize(loss)"
      ],
      "metadata": {
        "id": "okSlJN2ZAVmX"
      },
      "execution_count": 74,
      "outputs": []
    },
    {
      "cell_type": "code",
      "source": [
        "def reset(bandits):\n",
        "  idx = bandits.index(min(bandits))\n",
        "  bandits[idx]+=1\n"
      ],
      "metadata": {
        "id": "9jDy8c4Y0R2t"
      },
      "execution_count": 75,
      "outputs": []
    },
    {
      "cell_type": "code",
      "source": [
        "bandits"
      ],
      "metadata": {
        "colab": {
          "base_uri": "https://localhost:8080/"
        },
        "id": "_S8FbiEn4QUw",
        "outputId": "ece4b7c1-5976-42b7-9398-65d057e80589"
      },
      "execution_count": 76,
      "outputs": [
        {
          "output_type": "execute_result",
          "data": {
            "text/plain": [
              "[-0.9, -0.7, -0.8, -0.6]"
            ]
          },
          "metadata": {},
          "execution_count": 76
        }
      ]
    },
    {
      "cell_type": "code",
      "source": [
        "def some(lst):\n",
        "    target=10\n",
        "    for e in lst:\n",
        "      if e < target:\n",
        "         return True"
      ],
      "metadata": {
        "id": "SawLGXF02-P7"
      },
      "execution_count": 77,
      "outputs": []
    },
    {
      "cell_type": "markdown",
      "source": [
        "###Обучение агента"
      ],
      "metadata": {
        "id": "gPLU25hoAd0e"
      }
    },
    {
      "cell_type": "code",
      "source": [
        "is_true = False\n",
        "while(is_true == False):\n",
        "    total_episodes = 1000 #Количество итераций обучения\n",
        "    total_reward = np.zeros(num_bandits) #Изначальный выигрыш всех бандитов равен 0\n",
        "    e = 0.1 #Вероятность случайного выбора\n",
        "    init = tf.global_variables_initializer()\n",
        "\n",
        "    #Запускаем граф tensorflow\n",
        "    with tf.Session() as sess:\n",
        "        sess.run(init)\n",
        "        i = 0\n",
        "        while i < total_episodes:\n",
        "            \n",
        "            #Выбираем действие либо случайно либо на основе нейросети\n",
        "            if np.random.rand(1) < e:\n",
        "                action = np.random.randint(num_bandits)\n",
        "            else:\n",
        "                action = sess.run(chosen_action)\n",
        "            #Получаем результат игры, выбрав одного из бандитов\n",
        "            reward = pullBandit(bandits[action]) \n",
        "            \n",
        "            #Обновляем веса\n",
        "            _,resp,ww = sess.run([update,responsible_weight,weights], \n",
        "                          feed_dict={reward_holder:[reward],action_holder:[action]})\n",
        "            \n",
        "            #Обновляем общий выигрыш каждого бандита\n",
        "            total_reward[action] += reward\n",
        "            # if i % 50 == 0:\n",
        "            #     print(\"Общий выигрыш бандитов сейчас равен \" + str(num_bandits) + \n",
        "            #     \" bandits: \" + str(total_reward))\n",
        "            \n",
        "            print(\"Значения коэффициентов: \", total_reward)\n",
        "            print(\"Сумма значений(max 35)\", np.sum(total_reward))\n",
        "            #Катина попытка выжить начинается здесь\n",
        "            \n",
        "            \n",
        "            # if (some(total_reward)):\n",
        "            #     reset(bandits)\n",
        "                \n",
        "\n",
        "            if np.sum(total_reward)>=35:\n",
        "              print(\"\\n!FINAL! Сумма затрат на поставку: \", np.dot(total_reward, prices), \"\\n\")\n",
        "              break\n",
        "            \n",
        "            i+=1\n",
        "    print(\"Агент думает, что бандит №\" + str(np.argmax(ww)+1) + \" идеален...\")\n",
        "    if np.argmax(ww) == np.argmax(-np.array(bandits)):\n",
        "        print(\"...и он прав!\")\n",
        "        is_true = True\n",
        "    else:\n",
        "        print(\"...и он не прав!\")\n",
        "        is_true = False\n"
      ],
      "metadata": {
        "colab": {
          "base_uri": "https://localhost:8080/"
        },
        "id": "TgOlgfx7AkNN",
        "outputId": "e62a8a41-deef-4512-8a27-a1efdfe46d89"
      },
      "execution_count": 78,
      "outputs": [
        {
          "output_type": "stream",
          "name": "stdout",
          "text": [
            "Значения коэффициентов:  [1. 0. 0. 0.]\n",
            "Сумма значений(max 35) 1.0\n",
            "Значения коэффициентов:  [0. 0. 0. 0.]\n",
            "Сумма значений(max 35) 0.0\n",
            "Значения коэффициентов:  [1. 0. 0. 0.]\n",
            "Сумма значений(max 35) 1.0\n",
            "Значения коэффициентов:  [2. 0. 0. 0.]\n",
            "Сумма значений(max 35) 2.0\n",
            "Значения коэффициентов:  [3. 0. 0. 0.]\n",
            "Сумма значений(max 35) 3.0\n",
            "Значения коэффициентов:  [4. 0. 0. 0.]\n",
            "Сумма значений(max 35) 4.0\n",
            "Значения коэффициентов:  [4. 0. 0. 1.]\n",
            "Сумма значений(max 35) 5.0\n",
            "Значения коэффициентов:  [3. 0. 0. 1.]\n",
            "Сумма значений(max 35) 4.0\n",
            "Значения коэффициентов:  [4. 0. 0. 1.]\n",
            "Сумма значений(max 35) 5.0\n",
            "Значения коэффициентов:  [5. 0. 0. 1.]\n",
            "Сумма значений(max 35) 6.0\n",
            "Значения коэффициентов:  [4. 0. 0. 1.]\n",
            "Сумма значений(max 35) 5.0\n",
            "Значения коэффициентов:  [5. 0. 0. 1.]\n",
            "Сумма значений(max 35) 6.0\n",
            "Значения коэффициентов:  [6. 0. 0. 1.]\n",
            "Сумма значений(max 35) 7.0\n",
            "Значения коэффициентов:  [7. 0. 0. 1.]\n",
            "Сумма значений(max 35) 8.0\n",
            "Значения коэффициентов:  [7. 1. 0. 1.]\n",
            "Сумма значений(max 35) 9.0\n",
            "Значения коэффициентов:  [8. 1. 0. 1.]\n",
            "Сумма значений(max 35) 10.0\n",
            "Значения коэффициентов:  [9. 1. 0. 1.]\n",
            "Сумма значений(max 35) 11.0\n",
            "Значения коэффициентов:  [10.  1.  0.  1.]\n",
            "Сумма значений(max 35) 12.0\n",
            "Значения коэффициентов:  [10.  1.  1.  1.]\n",
            "Сумма значений(max 35) 13.0\n",
            "Значения коэффициентов:  [9. 1. 1. 1.]\n",
            "Сумма значений(max 35) 12.0\n",
            "Значения коэффициентов:  [10.  1.  1.  1.]\n",
            "Сумма значений(max 35) 13.0\n",
            "Значения коэффициентов:  [11.  1.  1.  1.]\n",
            "Сумма значений(max 35) 14.0\n",
            "Значения коэффициентов:  [12.  1.  1.  1.]\n",
            "Сумма значений(max 35) 15.0\n",
            "Значения коэффициентов:  [13.  1.  1.  1.]\n",
            "Сумма значений(max 35) 16.0\n",
            "Значения коэффициентов:  [14.  1.  1.  1.]\n",
            "Сумма значений(max 35) 17.0\n",
            "Значения коэффициентов:  [13.  1.  1.  1.]\n",
            "Сумма значений(max 35) 16.0\n",
            "Значения коэффициентов:  [14.  1.  1.  1.]\n",
            "Сумма значений(max 35) 17.0\n",
            "Значения коэффициентов:  [13.  1.  1.  1.]\n",
            "Сумма значений(max 35) 16.0\n",
            "Значения коэффициентов:  [14.  1.  1.  1.]\n",
            "Сумма значений(max 35) 17.0\n",
            "Значения коэффициентов:  [13.  1.  1.  1.]\n",
            "Сумма значений(max 35) 16.0\n",
            "Значения коэффициентов:  [14.  1.  1.  1.]\n",
            "Сумма значений(max 35) 17.0\n",
            "Значения коэффициентов:  [15.  1.  1.  1.]\n",
            "Сумма значений(max 35) 18.0\n",
            "Значения коэффициентов:  [16.  1.  1.  1.]\n",
            "Сумма значений(max 35) 19.0\n",
            "Значения коэффициентов:  [17.  1.  1.  1.]\n",
            "Сумма значений(max 35) 20.0\n",
            "Значения коэффициентов:  [18.  1.  1.  1.]\n",
            "Сумма значений(max 35) 21.0\n",
            "Значения коэффициентов:  [19.  1.  1.  1.]\n",
            "Сумма значений(max 35) 22.0\n",
            "Значения коэффициентов:  [20.  1.  1.  1.]\n",
            "Сумма значений(max 35) 23.0\n",
            "Значения коэффициентов:  [21.  1.  1.  1.]\n",
            "Сумма значений(max 35) 24.0\n",
            "Значения коэффициентов:  [20.  1.  1.  1.]\n",
            "Сумма значений(max 35) 23.0\n",
            "Значения коэффициентов:  [21.  1.  1.  1.]\n",
            "Сумма значений(max 35) 24.0\n",
            "Значения коэффициентов:  [21.  0.  1.  1.]\n",
            "Сумма значений(max 35) 23.0\n",
            "Значения коэффициентов:  [21.  0.  2.  1.]\n",
            "Сумма значений(max 35) 24.0\n",
            "Значения коэффициентов:  [22.  0.  2.  1.]\n",
            "Сумма значений(max 35) 25.0\n",
            "Значения коэффициентов:  [23.  0.  2.  1.]\n",
            "Сумма значений(max 35) 26.0\n",
            "Значения коэффициентов:  [24.  0.  2.  1.]\n",
            "Сумма значений(max 35) 27.0\n",
            "Значения коэффициентов:  [24.  0.  3.  1.]\n",
            "Сумма значений(max 35) 28.0\n",
            "Значения коэффициентов:  [25.  0.  3.  1.]\n",
            "Сумма значений(max 35) 29.0\n",
            "Значения коэффициентов:  [24.  0.  3.  1.]\n",
            "Сумма значений(max 35) 28.0\n",
            "Значения коэффициентов:  [25.  0.  3.  1.]\n",
            "Сумма значений(max 35) 29.0\n",
            "Значения коэффициентов:  [26.  0.  3.  1.]\n",
            "Сумма значений(max 35) 30.0\n",
            "Значения коэффициентов:  [27.  0.  3.  1.]\n",
            "Сумма значений(max 35) 31.0\n",
            "Значения коэффициентов:  [28.  0.  3.  1.]\n",
            "Сумма значений(max 35) 32.0\n",
            "Значения коэффициентов:  [29.  0.  3.  1.]\n",
            "Сумма значений(max 35) 33.0\n",
            "Значения коэффициентов:  [30.  0.  3.  1.]\n",
            "Сумма значений(max 35) 34.0\n",
            "Значения коэффициентов:  [31.  0.  3.  1.]\n",
            "Сумма значений(max 35) 35.0\n",
            "\n",
            "!FINAL! Сумма затрат на поставку:  45.0 \n",
            "\n",
            "Агент думает, что бандит №1 идеален...\n",
            "...и он прав!\n"
          ]
        }
      ]
    },
    {
      "cell_type": "markdown",
      "source": [
        "###Идеи дальнейшей реализации:\n",
        "- "
      ],
      "metadata": {
        "id": "xJIi1_u29mGF"
      }
    }
  ]
}