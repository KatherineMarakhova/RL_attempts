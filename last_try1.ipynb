{
  "nbformat": 4,
  "nbformat_minor": 0,
  "metadata": {
    "colab": {
      "provenance": [],
      "authorship_tag": "ABX9TyN6sZraGUXJtrt47MaYbtJ+",
      "include_colab_link": true
    },
    "kernelspec": {
      "name": "python3",
      "display_name": "Python 3"
    },
    "language_info": {
      "name": "python"
    }
  },
  "cells": [
    {
      "cell_type": "markdown",
      "metadata": {
        "id": "view-in-github",
        "colab_type": "text"
      },
      "source": [
        "<a href=\"https://colab.research.google.com/github/KatherineMarakhova/RL_attempts/blob/main/last_try1.ipynb\" target=\"_parent\"><img src=\"https://colab.research.google.com/assets/colab-badge.svg\" alt=\"Open In Colab\"/></a>"
      ]
    },
    {
      "cell_type": "code",
      "execution_count": 26,
      "metadata": {
        "id": "Z2_TffEXAPBu"
      },
      "outputs": [],
      "source": [
        "import tensorflow as tf\n",
        "from tensorflow.python.framework import ops\n",
        "import tensorflow.compat.v1 as tf\n",
        "tf.disable_v2_behavior()\n",
        "import numpy as np\n",
        "\n",
        "#Список наших бандитов. Бандит №4 наиболее оптимален для выбора.\n",
        "#bandits = [0.2,0,-0.2,-5]\n",
        "#bandits = [1,3,4,2]\n",
        "bandits = [-0.9, -0.7, -0.8, -0.6]\n",
        "num_bandits = len(bandits)\n",
        "def pullBandit(bandit):\n",
        "    #Сгенерировать случайное число\n",
        "    result = np.random.randn(1)\n",
        "    if result > bandit:\n",
        "        #Выигрыш\n",
        "        return 1\n",
        "    else:\n",
        "        #Проигрыш\n",
        "        return -1"
      ]
    },
    {
      "cell_type": "markdown",
      "source": [
        "###Агент"
      ],
      "metadata": {
        "id": "-YYBfN8gAYD1"
      }
    },
    {
      "cell_type": "code",
      "source": [
        "ops.reset_default_graph()\n",
        "\n",
        "#Эти 2 строчки создают feed-forward часть нейросети. Здесь и происходит выбор действия.\n",
        "weights = tf.Variable(tf.ones([num_bandits]))\n",
        "chosen_action = tf.argmax(weights,0)\n",
        "\n",
        "#Следующие 6 строчек устанавливают процедуру обучения. Нейросеть принимает на вход действие и его результат, чтобы оценить функцию потерь и обновить веса сети.\n",
        "reward_holder = tf.placeholder(shape=[1],dtype=tf.float32)\n",
        "action_holder = tf.placeholder(shape=[1],dtype=tf.int32)\n",
        "responsible_weight = tf.slice(weights,action_holder,[1])\n",
        "loss = -(tf.log(responsible_weight)*reward_holder)\n",
        "optimizer = tf.train.GradientDescentOptimizer(learning_rate=0.001)\n",
        "update = optimizer.minimize(loss)"
      ],
      "metadata": {
        "id": "okSlJN2ZAVmX"
      },
      "execution_count": 27,
      "outputs": []
    },
    {
      "cell_type": "markdown",
      "source": [
        "###Обучение агента"
      ],
      "metadata": {
        "id": "gPLU25hoAd0e"
      }
    },
    {
      "cell_type": "code",
      "source": [
        "total_episodes = 1000 #Количество итераций обучения\n",
        "total_reward = np.zeros(num_bandits) #Изначальный выигрыш всех бандитов равен 0\n",
        "e = 0.1 #Вероятность случайного выбора\n",
        "init = tf.global_variables_initializer()\n",
        "\n",
        "#Запускаем граф tensorflow\n",
        "with tf.Session() as sess:\n",
        "    sess.run(init)\n",
        "    i = 0\n",
        "    while i < total_episodes:\n",
        "        \n",
        "        #Выбираем действие либо случайно либо на основе нейросети\n",
        "        if np.random.rand(1) < e:\n",
        "            action = np.random.randint(num_bandits)\n",
        "        else:\n",
        "            action = sess.run(chosen_action)\n",
        "        #Получаем результат игры, выбрав одного из бандитов\n",
        "        reward = pullBandit(bandits[action]) \n",
        "        \n",
        "        #Обновляем веса\n",
        "        _,resp,ww = sess.run([update,responsible_weight,weights], \n",
        "                      feed_dict={reward_holder:[reward],action_holder:[action]})\n",
        "        \n",
        "        #Обновляем общий выигрыш каждого бандита\n",
        "        total_reward[action] += reward\n",
        "        if i % 50 == 0:\n",
        "            print(\"Общий выигрыш бандитов сейчас равен \" + str(num_bandits) + \n",
        "            \" bandits: \" + str(total_reward))\n",
        "\n",
        "        #Катина попытка выжить начинается здесь\n",
        "        if np.sum(total_reward)>35:\n",
        "          print(total_reward)\n",
        "          print(np.sum(total_reward))\n",
        "          break\n",
        "        i+=1\n",
        "print(\"Агент думает, что бандит №\" + str(np.argmax(ww)+1) + \" идеален...\")\n",
        "if np.argmax(ww) == np.argmax(-np.array(bandits)):\n",
        "    print(\"...и он прав!\")\n",
        "else:\n",
        "    print(\"...и он не прав!\")"
      ],
      "metadata": {
        "colab": {
          "base_uri": "https://localhost:8080/"
        },
        "id": "TgOlgfx7AkNN",
        "outputId": "e4c391d1-5ac1-4bd3-9c11-878bfa92fd4e"
      },
      "execution_count": 28,
      "outputs": [
        {
          "output_type": "stream",
          "name": "stdout",
          "text": [
            "Общий выигрыш бандитов сейчас равен 4 bandits: [1. 0. 0. 0.]\n",
            "[29.  3.  2.  2.]\n",
            "36.0\n",
            "Агент думает, что бандит №1 идеален...\n",
            "...и он прав!\n"
          ]
        }
      ]
    },
    {
      "cell_type": "code",
      "source": [],
      "metadata": {
        "id": "Ad1StLQfBRBa"
      },
      "execution_count": null,
      "outputs": []
    }
  ]
}